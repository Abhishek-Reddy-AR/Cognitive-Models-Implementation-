{
 "cells": [
  {
   "cell_type": "code",
   "execution_count": 1,
   "id": "9201b19e",
   "metadata": {},
   "outputs": [],
   "source": [
    "#importing required modules\n",
    "import numpy as np\n",
    "import cv2\n",
    "from numpy.random import permutation\n",
    "from numpy.random import choice \n",
    "import matplotlib.pyplot as plt\n",
    "import time"
   ]
  },
  {
   "cell_type": "code",
   "execution_count": 2,
   "id": "bba3be60",
   "metadata": {},
   "outputs": [
    {
     "data": {
      "image/png": "[encoded data removed]",
      "text/plain": [
       "<Figure size 432x288 with 1 Axes>"
      ]
     },
     "metadata": {
      "needs_background": "light"
     },
     "output_type": "display_data"
    },
    {
     "data": {
      "text/plain": [
       "<matplotlib.image.AxesImage at 0x23b6a6b81c0>"
      ]
     },
     "execution_count": 2,
     "metadata": {},
     "output_type": "execute_result"
    },
    {
     "data": {
      "image/png": "[encoded data removed]",
      "text/plain": [
       "<Figure size 432x288 with 1 Axes>"
      ]
     },
     "metadata": {
      "needs_background": "light"
     },
     "output_type": "display_data"
    }
   ],
   "source": [
    "#creating triangle and square shape\n",
    "\n",
    "#square shape\n",
    "square = np.zeros((256, 256, 3), np.uint8)\n",
    "cv2.rectangle(square, pt1=(50,50), pt2=(200,200), color=(255,255,255), thickness=-1)\n",
    "plt.imshow(square)\n",
    "plt.show()\n",
    "\n",
    "#triangle shape\n",
    "triangle = np.zeros((256, 256, 3), np.uint8)\n",
    "vertices = np.array([[50, 200], [200, 200], [125, 50]], np.int32)\n",
    "vertices = vertices.reshape((-1, 1, 2))\n",
    "cv2.polylines(triangle, [vertices], isClosed=True, color=(255, 255, 255), thickness=20)\n",
    "cv2.fillPoly(triangle, [vertices], color=(255, 255, 255))\n",
    "plt.imshow(triangle)"
   ]
  },
  {
   "cell_type": "markdown",
   "id": "1e181b33",
   "metadata": {},
   "source": [
    "## Q1: shape detection using  a bank of orientation-selective 2D Gabor filters."
   ]
  },
  {
   "cell_type": "markdown",
   "id": "a78b815f",
   "metadata": {},
   "source": [
    "### function releated to square detection"
   ]
  },
  {
   "cell_type": "code",
   "execution_count": 3,
   "id": "0c2fe56b",
   "metadata": {},
   "outputs": [],
   "source": [
    "#function to check if the image is a square with edges oriented with angles as theta_pair\n",
    "def square_detection_angle(filtered_images,theta_pair):\n",
    "    \n",
    "    #getting the minimum of each pixel value in both the filtered images ,for all pixels\n",
    "    #bcz if there is intersection then the same pixel value in both the images will be high\n",
    "    image_intersection=np.minimum(filtered_images[theta_pair[0]],filtered_images[theta_pair[1]])\n",
    "    #getting unique values from the image intersection\n",
    "    unique_values=np.unique(image_intersection)\n",
    "    #sorting the values\n",
    "    unique_values.sort()\n",
    "    #if no of unique values is less than 2 i.e all the pixel values are same\n",
    "    if len(unique_values)<2:\n",
    "        #if all the pixel values are same , then it is not a square\n",
    "        return False\n",
    "    \n",
    "    #binary thresholding the intersection image , with threshold value as the second highest pixel value\n",
    "    threshold_value=int(unique_values[-2])\n",
    "    _,threshold_image = cv2.threshold(np.minimum(filtered_images[theta_pair[0]],filtered_images[theta_pair[1]]),threshold_value,255,cv2.THRESH_BINARY)\n",
    "    #getting value counts of each pixel value\n",
    "    value_counts=np.unique(threshold_image,return_counts=True)\n",
    "    #if the high pixel value count is 4 i.e there are 4 points of intersection\n",
    "    if value_counts[1][-1]==4:\n",
    "        #then it is a square\n",
    "        return True\n",
    "    #else it is not a square\n",
    "    else:\n",
    "        return False"
   ]
  },
  {
   "cell_type": "code",
   "execution_count": 4,
   "id": "0800d9f0",
   "metadata": {},
   "outputs": [],
   "source": [
    "#function that checks if image is a square with edges oriented with angles among theta_pairs\n",
    "def square_detection_angles(filtered_images,square_theta_pairs):\n",
    "    #for each perpendicular theta pair\n",
    "    for theta_pair in square_theta_pairs:\n",
    "        #checking if it is a square with edges oriented with angles as theta pair\n",
    "        if square_detection_angle(filtered_images,theta_pair):\n",
    "            #if yes , return true\n",
    "            return True\n",
    "    #if it is not a square for any of the theta pairs, then return false\n",
    "    return False"
   ]
  },
  {
   "cell_type": "code",
   "execution_count": 5,
   "id": "264ee42a",
   "metadata": {},
   "outputs": [],
   "source": [
    "#function to generate the filtered images\n",
    "def square_filter_passing(filters,image):\n",
    "    #to store filtered images\n",
    "    filtered_images={}\n",
    "    #to store angle\n",
    "    angle=0\n",
    "    #for each filter\n",
    "    for filtr in filters:\n",
    "        #getting the filtered image\n",
    "        filtered_image = cv2.filter2D(image, cv2.CV_8UC3, filtr)\n",
    "        #performing binary thresholding on the filtered image\n",
    "        _,threshold_image = cv2.threshold(filtered_image,180,255,cv2.THRESH_BINARY)\n",
    "        #adding the thresholded image to dict\n",
    "        filtered_images[angle]=threshold_image\n",
    "        #incrementing the angle \n",
    "        angle+=10\n",
    "    #returning dict of filtered_images\n",
    "    return filtered_images"
   ]
  },
  {
   "cell_type": "code",
   "execution_count": 6,
   "id": "545e5ed9",
   "metadata": {},
   "outputs": [],
   "source": [
    "#function to generate square filters when the theta list is passed\n",
    "def square_filters_generation(theta_list):\n",
    "    \n",
    "    #to store the filters\n",
    "    filters = []\n",
    "    #initializing parameters for gabor kernel\n",
    "    kernel_size = 5\n",
    "    sigma = 2.0\n",
    "    #for each diff orientation\n",
    "    for theta in theta_list:\n",
    "        #getting the gabor kernel with that orientation\n",
    "        filtr = cv2.getGaborKernel((kernel_size, kernel_size), sigma, theta, lambd=4, gamma=2, psi=0,ktype=cv2.CV_32F)\n",
    "        #appending it to the filters list\n",
    "        filters.append(filtr)\n",
    "    return filters"
   ]
  },
  {
   "cell_type": "code",
   "execution_count": 7,
   "id": "aeb5900d",
   "metadata": {},
   "outputs": [],
   "source": [
    "#function for square detection\n",
    "def square_detection(image):\n",
    "    #theta list contains angles 0,10,20,...170 \n",
    "    theta=np.pi/18\n",
    "    theta_list=[]\n",
    "    for i in range(18):\n",
    "        theta_list.append(i*theta)\n",
    "        \n",
    "    #getting filters with different orientations\n",
    "    filters=square_filters_generation(theta_list)\n",
    "    #getting the filtered images by passing the image through each filter\n",
    "    filtered_images=square_filter_passing(filters,image)\n",
    "    #getting all theta pairs that are perpendicular ex:(0,90),(10,110),.....,(80,170)\n",
    "    square_theta_pairs=[]\n",
    "    for i in range(0,90,80):\n",
    "        square_theta_pairs.append([i,i+90])\n",
    "    #if it a square with edges oriented with angles among theta_pairs\n",
    "    if square_detection_angles(filtered_images,square_theta_pairs):\n",
    "        #then return true\n",
    "        return True\n",
    "    \n",
    "    #else return false\n",
    "    else:\n",
    "        return False"
   ]
  },
  {
   "cell_type": "markdown",
   "id": "bb8e2d4e",
   "metadata": {},
   "source": [
    "### functions related to triangle detection"
   ]
  },
  {
   "cell_type": "code",
   "execution_count": 8,
   "id": "7642ce2d",
   "metadata": {},
   "outputs": [],
   "source": [
    "#fucnction to generate triangle filters\n",
    "def triangle_filters_generation(theta_list):\n",
    "    #to store the filters\n",
    "    filters = []\n",
    "    #initializing parameters for gabor kernel\n",
    "    kernel_size = 31\n",
    "    sigma = 2.0\n",
    "    #for each diff orientation\n",
    "    for theta in theta_list:\n",
    "        #getting the gabor kernel with that orientation\n",
    "        filtr = cv2.getGaborKernel((kernel_size, kernel_size), sigma, theta, lambd=2, gamma=0.5, psi=0,ktype=cv2.CV_32F)\n",
    "        #appending it to the filters list\n",
    "        filters.append(filtr)\n",
    "    return filters"
   ]
  },
  {
   "cell_type": "code",
   "execution_count": 9,
   "id": "7838b755",
   "metadata": {},
   "outputs": [],
   "source": [
    "#function to get the filtered images \n",
    "def triangle_filter_passing(filters,image):\n",
    "    #to store filtered images\n",
    "    filtered_images={}\n",
    "    #to store angle\n",
    "    angle=45\n",
    "    #for each filter\n",
    "    for filtr in filters:\n",
    "        #getting the filtered image\n",
    "        filtered_image = cv2.filter2D(image, cv2.CV_8UC3, filtr)\n",
    "        #performing binary thresholding on the filtered image\n",
    "        _,threshold_image = cv2.threshold(filtered_image,180,255,cv2.THRESH_BINARY)\n",
    "        #adding the thresholded image to dict\n",
    "        filtered_images[angle]=threshold_image\n",
    "        #incrementing the angle \n",
    "        angle+=45\n",
    "    #returning dict of filtered_images\n",
    "    return filtered_images"
   ]
  },
  {
   "cell_type": "code",
   "execution_count": 10,
   "id": "025c064d",
   "metadata": {},
   "outputs": [],
   "source": [
    "#function to get the corners of triangle\n",
    "def getting_corners(filtered_images):\n",
    "    #getting right corner\n",
    "    corner1 = 255*np.uint8(filtered_images[45]*filtered_images[90]) \n",
    "    #getting left corner\n",
    "    corner2 = 255*np.uint8(filtered_images[90]*filtered_images[135]) \n",
    "    #getting top corner\n",
    "    corner3 = 255*np.uint8(filtered_images[135]*filtered_images[90]) \n",
    "    #returning the corners\n",
    "    return [corner1,corner2,corner3]"
   ]
  },
  {
   "cell_type": "code",
   "execution_count": 11,
   "id": "99c79cd3",
   "metadata": {},
   "outputs": [],
   "source": [
    "#function for triangle detection\n",
    "def triangle_detection(image):\n",
    "    \n",
    "    #theta list contains angles 45,90,135\n",
    "    theta_list=[1*np.pi/4,2*np.pi/4,3*np.pi/4]\n",
    "    #getting filters with different orientations\n",
    "    filters = triangle_filters_generation(theta_list)\n",
    "    #getting the filtered images by passing the image through each filter\n",
    "    filtered_images=triangle_filter_passing(filters,image)\n",
    "    #getting corners of triangle\n",
    "    corners=getting_corners(filtered_images)\n",
    "    #for each corner\n",
    "    for i in range(3):\n",
    "        #getting the current corner\n",
    "        corner = np.asarray(np.nonzero(corners[i]))\n",
    "        #if any one of the corner is empty(all zeros) i.e no intersection point\n",
    "        if corner.shape[1] == 0:\n",
    "            return False\n",
    "    #return true if all the three corners have non zero points i.e there are intersection points\n",
    "    return True"
   ]
  },
  {
   "cell_type": "markdown",
   "id": "a0ed2a3f",
   "metadata": {},
   "source": [
    "### checking for generated shapes"
   ]
  },
  {
   "cell_type": "code",
   "execution_count": 12,
   "id": "9785fc90",
   "metadata": {},
   "outputs": [],
   "source": [
    "#function for shape detection\n",
    "def shape_detection(image):\n",
    "    #converting rbg to greyscale by taking mean over rgb axis\n",
    "    image_gs = np.uint8(np.mean(image, axis=2))\n",
    "    #performing  adaptive thresholding on grey scale image\n",
    "    _,threshold_image = cv2.threshold(image_gs,0,255,cv2.THRESH_BINARY+cv2.THRESH_OTSU)\n",
    "    \n",
    "    #if the shape is a square\n",
    "    if square_detection(threshold_image):\n",
    "        #then return 0\n",
    "        return int(0)\n",
    "    #else if the shape is a triangle\n",
    "    elif triangle_detection(threshold_image):\n",
    "        #then return 1\n",
    "        return int(1)\n",
    "    #else return 2\n",
    "    else:\n",
    "        return int(2)"
   ]
  },
  {
   "cell_type": "code",
   "execution_count": 13,
   "id": "d0375c82",
   "metadata": {},
   "outputs": [
    {
     "name": "stdout",
     "output_type": "stream",
     "text": [
      "correct detection\n",
      "correct detection\n"
     ]
    }
   ],
   "source": [
    "#checking if the shape detection is working or not on sample images\n",
    "\n",
    "#checking for square shape\n",
    "shp=shape_detection(square)\n",
    "if shp==0:\n",
    "    print('correct detection')\n",
    "else:\n",
    "    print('incorrect detection')\n",
    "\n",
    "#checking for triangle shape\n",
    "shp=shape_detection(triangle)\n",
    "if shp==1:\n",
    "    print('correct detection')\n",
    "else:\n",
    "    print('incorrect detection')"
   ]
  },
  {
   "cell_type": "markdown",
   "id": "5855601e",
   "metadata": {},
   "source": [
    "## Q2 :  visual search paradigm simulation"
   ]
  },
  {
   "cell_type": "code",
   "execution_count": 14,
   "id": "0ba9b052",
   "metadata": {},
   "outputs": [],
   "source": [
    "#converting triangle and square to grey scale , to be used in the paradigm\n",
    "triangle=np.uint8(np.mean(triangle, axis=2))\n",
    "square=np.uint8(np.mean(square, axis=2))"
   ]
  },
  {
   "cell_type": "code",
   "execution_count": 15,
   "id": "e99c0845",
   "metadata": {},
   "outputs": [],
   "source": [
    "#function to simulate feature paradigm\n",
    "def feature_paradigm(No_of_objects):\n",
    "    #to store the paradigm\n",
    "    shape=triangle.shape[0]*10\n",
    "    paradigm = np.zeros((shape,shape,3), np.uint8)\n",
    "    #for red and blue colors\n",
    "    color = [0,2]\n",
    "    \n",
    "    #randomly select locations for object placement among 100 locations\n",
    "    object_locations = permutation(np.arange(100))[:No_of_objects]\n",
    "    #selecting the location for the placement of odd object\n",
    "    odd_object_location = object_locations[-1]\n",
    "    \n",
    "    #randomly selecting the color of the odd object\n",
    "    odd_object_color = int(color[int(choice(2,1))])\n",
    "    #getting the color of the like objects\n",
    "    like_object_color = int(2 - odd_object_color)\n",
    "\n",
    "    #matrix for location k in among the 100 locations  in the image will be\n",
    "    #img[(k/10)*triangle.shape[0]:(k/10+1)*triangle.shape[0], (k%10)*triangle.shape[0]:(k%10+1)*triangle.shape[0],:]\n",
    "    \n",
    "    #for each object location\n",
    "    for object_loc in object_locations:\n",
    "        \n",
    "        shp=triangle.shape[0]\n",
    "        #getting the row and column index of the location matrix\n",
    "        ind1=int(object_loc/10)\n",
    "        ind2=int(object_loc%10)\n",
    "        \n",
    "        #if the current object location is odd object location\n",
    "        if object_loc == odd_object_location:\n",
    "            # the odd object's color axis will be assigned triangle image\n",
    "            paradigm[ind1*shp:(ind1+1)*shp, ind2*shp:(ind2+1)*shp, odd_object_color] = triangle\n",
    "        #else\n",
    "        else:\n",
    "            #the like object's color axis will be assigned triangle image\n",
    "            paradigm[ind1*shp:(ind1+1)*shp, ind2*shp:(ind2+1)*shp, like_object_color] = triangle\n",
    "\n",
    "    return (paradigm,object_locations)"
   ]
  },
  {
   "cell_type": "code",
   "execution_count": 16,
   "id": "c2893cc3",
   "metadata": {},
   "outputs": [],
   "source": [
    "#function to simulate conjunction paradigm\n",
    "def conjunction_paradigm(No_of_objects):\n",
    "    #to store the paradigm\n",
    "    shape=triangle.shape[0]*10\n",
    "    paradigm = np.zeros((shape,shape,3), np.uint8)\n",
    "    #for red and blue colors\n",
    "    color = [0,2]\n",
    "    \n",
    "    #randomly dividing no of squares and no of triangle among no of objects\n",
    "    No_of_squares = int(choice(No_of_objects-1,1)) + 1 \n",
    "    No_of_triangles = No_of_objects - No_of_squares\n",
    "    \n",
    "    #randomly getting square and triangles locations\n",
    "    object_locations = permutation(np.arange(100))[:No_of_objects] \n",
    "    square_locations = object_locations[:No_of_squares] \n",
    "    triangle_locations = object_locations[No_of_squares:]\n",
    "    \n",
    "    #randomly getting triangle and square colors \n",
    "    triangle_color = int(color[int(choice(2,1))])\n",
    "    square_color = int(2 - triangle_color)\n",
    "    \n",
    "    #randomly chossing odd object location among object locations\n",
    "    odd_object_location=object_locations[choice(No_of_objects,1)]\n",
    "    \n",
    "    #for each object location\n",
    "    for object_loc in object_locations:\n",
    "        #getting the row and columns index of the location matrix\n",
    "        shp=triangle.shape[0]\n",
    "        ind1=int(object_loc/10)\n",
    "        ind2=int(object_loc%10)\n",
    "        #if the current object location is square location\n",
    "        if object_loc in square_locations:\n",
    "            #if the current object location is odd object location\n",
    "            if object_loc==odd_object_location:\n",
    "                #then the square objects ,triangle color axis will be assigned square image\n",
    "                paradigm[ind1*shp:(ind1+1)*shp, ind2*shp:(ind2+1)*shp, triangle_color] = square\n",
    "            #if the current object is not odd object\n",
    "            else:\n",
    "                #then the square objects ,square color axis will be assigned square image\n",
    "                paradigm[ind1*shp:(ind1+1)*shp, ind2*shp:(ind2+1)*shp, square_color] = square\n",
    "        #if the current object location is triangle location\n",
    "        else:\n",
    "            #if the current object location is odd object location\n",
    "            if object_loc==odd_object_location:\n",
    "                #then the triangle objects,square color axis will be assigned triangle image\n",
    "                paradigm[ind1*shp:(ind1+1)*shp, ind2*shp:(ind2+1)*shp, square_color] = triangle\n",
    "            #if the current object is not odd object\n",
    "            else:\n",
    "                #then the triangle objects,triangle color axis will be assigned triangle image\n",
    "                paradigm[ind1*shp:(ind1+1)*shp, ind2*shp:(ind2+1)*shp, triangle_color] = triangle\n",
    "    return (paradigm,object_locations)"
   ]
  },
  {
   "cell_type": "code",
   "execution_count": 17,
   "id": "c67f3a2a",
   "metadata": {},
   "outputs": [],
   "source": [
    "#function to generate paradigm\n",
    "def generate_paradigm(No_of_objects, Experiment_type):\n",
    "    #if the experiment type is feature paradigm\n",
    "    if Experiment_type == 'feature':\n",
    "        #then calling feature paradigm function\n",
    "        paradigm,object_locations = feature_paradigm(No_of_objects)\n",
    "    #else calling conjunction paradigm function\n",
    "    else:\n",
    "        paradigm,object_locations = conjunction_paradigm(No_of_objects)\n",
    "    \n",
    "    #returning paradigm\n",
    "    return (np.uint8(paradigm),object_locations)"
   ]
  },
  {
   "cell_type": "code",
   "execution_count": 18,
   "id": "610a8990",
   "metadata": {},
   "outputs": [
    {
     "data": {
      "text/plain": [
       "<matplotlib.image.AxesImage at 0x23b6a728d00>"
      ]
     },
     "execution_count": 18,
     "metadata": {},
     "output_type": "execute_result"
    },
    {
     "data": {
      "image/png": "[encoded data removed]",
      "text/plain": [
       "<Figure size 432x288 with 1 Axes>"
      ]
     },
     "metadata": {
      "needs_background": "light"
     },
     "output_type": "display_data"
    }
   ],
   "source": [
    "#displaying example paradigm\n",
    "plt.imshow(generate_paradigm(60,1)[0])"
   ]
  },
  {
   "cell_type": "markdown",
   "id": "b1041f88",
   "metadata": {},
   "source": [
    "## Q3 : implementation of feature integration theory"
   ]
  },
  {
   "cell_type": "code",
   "execution_count": 19,
   "id": "6b65294d",
   "metadata": {},
   "outputs": [],
   "source": [
    "#functcion to perform feature search\n",
    "def feature_search(color_map, shape_map):\n",
    "    #this search is based on just one feature, counting the occurrences of each type i.e. \n",
    "    #no of blues and no of reds. The one which gives only 1 occurrence will be the odd one.\n",
    "    \n",
    "    #initializing counts\n",
    "    red_count=0\n",
    "    blue_count=0\n",
    "    #counting no of red and blue shapes\n",
    "    for color in color_map:\n",
    "        if color==0:\n",
    "            red_count+=1\n",
    "        else:\n",
    "            blue_count+=1\n",
    "\n",
    "    #if red count is 1 then the odd shape is red color\n",
    "    if red_count==1:\n",
    "        return True\n",
    "    #if blue count is 1 then the odd shape is blue color\n",
    "    elif blue_count==1:\n",
    "        return True\n",
    "    \n",
    "    time.sleep(0.02)\n",
    "    \n",
    "    return False"
   ]
  },
  {
   "cell_type": "code",
   "execution_count": 20,
   "id": "a144aa94",
   "metadata": {},
   "outputs": [],
   "source": [
    "#functcion to perform feature search\n",
    "def conjunction_search(color_map, shape_map):\n",
    "    #initializing counts \n",
    "    #based on 2 features, so we get 4 counts\n",
    "    blue_triangles_count = 0\n",
    "    red_triangles_count = 0\n",
    "    blue_squares_count = 0\n",
    "    red_squares_count = 0\n",
    "    \n",
    "    for i in range(color_map.shape[0]):\n",
    "        #if red color\n",
    "        if (color_map[i] == 0): \n",
    "            #if square shape\n",
    "            if (shape_map[i] == 0): \n",
    "                red_squares_count+=1\n",
    "            else: \n",
    "                red_triangles_count+=1\n",
    "        #if blue color\n",
    "        else:\n",
    "            #if square shape\n",
    "            if (shape_map[i] == 0): \n",
    "                blue_squares_count+=1\n",
    "            else: \n",
    "                blue_triangles_count+=1\n",
    "                \n",
    "        time.sleep(0.02)\n",
    "    \n",
    "    #if any one of them is 1 , then return true\n",
    "    if blue_triangles_count== 1:\n",
    "        return True\n",
    "    elif red_triangles_count == 1:\n",
    "        return True\n",
    "    elif blue_squares_count == 1:\n",
    "        return True\n",
    "    elif red_squares_count == 1:\n",
    "        return True\n",
    "    \n",
    "    time.sleep(0.02)\n",
    "    \n",
    "    #else return false\n",
    "    return False"
   ]
  },
  {
   "cell_type": "code",
   "execution_count": 21,
   "id": "7c35ab08",
   "metadata": {},
   "outputs": [],
   "source": [
    "# function to detect the color of an image i.e  0 - red , 1 - blue \n",
    "def color_detection(image):\n",
    "    #getting color intensities\n",
    "    rgb_intensities = np.sum(image, axis=(0,1))\n",
    "    #gettig the channel index of max intensity\n",
    "    color_index = np.argmax(rgb_intensities) \n",
    "    #if the color_index is 0\n",
    "    if color_index == 0:\n",
    "        #then it is red\n",
    "        return 0\n",
    "    #else\n",
    "    else:\n",
    "        #it is blue, since in our paradigm we have only 2 colors\n",
    "        return 1"
   ]
  },
  {
   "cell_type": "code",
   "execution_count": 22,
   "id": "d6be5b50",
   "metadata": {},
   "outputs": [],
   "source": [
    "#function to get the feature maps\n",
    "def generate_feature_maps( paradigm , object_locations):\n",
    "    # creating shape map i.e 0 - square , 1 - triangle \n",
    "    shape_map = np.zeros(object_locations.shape)\n",
    "    #creating color map i.e 0 - red , 1 - blue \n",
    "    color_map = np.zeros(object_locations.shape)\n",
    "    #for each object location\n",
    "    ind=0\n",
    "    for object_loc in object_locations:\n",
    "        #getting the row and column index of the location matrix\n",
    "        shp=triangle.shape[0]\n",
    "        ind1=int(object_loc/10)\n",
    "        ind2=int(object_loc%10)\n",
    "        #getting objects image\n",
    "        image = paradigm[ind1*shp:(ind1+1)*shp, ind2*shp:(ind2+1)*shp, :]\n",
    "        #getting shape of curr object\n",
    "        shape_map[ind] = shape_detection(image)\n",
    "        #getting color of current object\n",
    "        color_map[ind] = color_detection(image)\n",
    "        ind+=1\n",
    "    return (shape_map, color_map)\n"
   ]
  },
  {
   "cell_type": "code",
   "execution_count": 23,
   "id": "9e2dd4a0",
   "metadata": {},
   "outputs": [],
   "source": [
    "#to store feature search times\n",
    "feature_search_times = []\n",
    "#repeating for various no of objects\n",
    "for No_of_objects in range(2,50):\n",
    "    #generating feature paradigm\n",
    "    paradigm,object_locations = generate_paradigm(No_of_objects, 'feature')\n",
    "    #generating feature maps\n",
    "    shape_map, color_map = generate_feature_maps(paradigm,object_locations)\n",
    "    #to measure time\n",
    "    ticks = time.time()\n",
    "    found = feature_search(color_map, shape_map)\n",
    "    feature_search_times.append(time.time() - ticks)"
   ]
  },
  {
   "cell_type": "code",
   "execution_count": 24,
   "id": "b5e6dea6",
   "metadata": {},
   "outputs": [],
   "source": [
    "#to store conjunction search times\n",
    "conjunction_search_times = []\n",
    "#repeating for various no of objects\n",
    "for No_of_objects in range(2,50):\n",
    "    #generating conjunction paradigm\n",
    "    paradigm,object_locations = generate_paradigm(No_of_objects, 'conjunction')\n",
    "    #generating feature maps\n",
    "    shape_map, color_map = generate_feature_maps( paradigm,object_locations)\n",
    "    #to measure time\n",
    "    ticks = time.time()\n",
    "    found = conjunction_search(color_map, shape_map)\n",
    "    conjunction_search_times.append(time.time() - ticks)\n"
   ]
  },
  {
   "cell_type": "code",
   "execution_count": 25,
   "id": "63c09cc7",
   "metadata": {},
   "outputs": [
    {
     "data": {
      "text/plain": [
       "<matplotlib.legend.Legend at 0x23b6a771880>"
      ]
     },
     "execution_count": 25,
     "metadata": {},
     "output_type": "execute_result"
    },
    {
     "data": {
      "image/png": "[encoded data removed]",
      "text/plain": [
       "<Figure size 432x288 with 1 Axes>"
      ]
     },
     "metadata": {
      "needs_background": "light"
     },
     "output_type": "display_data"
    }
   ],
   "source": [
    "#plotting\n",
    "plt.plot(feature_search_times, label='feature search')\n",
    "plt.plot(conjunction_search_times, label='conjunction search')\n",
    "\n",
    "plt.ylabel('Response Time')\n",
    "plt.xlabel('No of Objects')\n",
    "plt.title('Response Time vs No. of Objects')\n",
    "plt.legend()"
   ]
  },
  {
   "cell_type": "code",
   "execution_count": null,
   "id": "f2fc831c",
   "metadata": {},
   "outputs": [],
   "source": []
  },
  {
   "cell_type": "code",
   "execution_count": null,
   "id": "507d7426",
   "metadata": {},
   "outputs": [],
   "source": []
  }
 ],
 "metadata": {
  "kernelspec": {
   "display_name": "Python 3",
   "language": "python",
   "name": "python3"
  },
  "language_info": {
   "codemirror_mode": {
    "name": "ipython",
    "version": 3
   },
   "file_extension": ".py",
   "mimetype": "text/x-python",
   "name": "python",
   "nbconvert_exporter": "python",
   "pygments_lexer": "ipython3",
   "version": "3.8.5"
  }
 },
 "nbformat": 4,
 "nbformat_minor": 5
}
